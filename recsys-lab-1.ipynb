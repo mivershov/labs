{
 "cells": [
  {
   "cell_type": "code",
   "execution_count": 1,
   "metadata": {
    "collapsed": true
   },
   "outputs": [],
   "source": [
    "from os import path, environ\n",
    "import pandas as pd\n",
    "import numpy as np"
   ]
  },
  {
   "cell_type": "code",
   "execution_count": 2,
   "metadata": {
    "collapsed": true
   },
   "outputs": [],
   "source": [
    "data_dir = '/home/mershov/data/ml-latest-small'\n",
    "environ[\"DATA_DIR\"] = data_dir"
   ]
  },
  {
   "cell_type": "code",
   "execution_count": 3,
   "metadata": {
    "scrolled": true
   },
   "outputs": [
    {
     "data": {
      "text/html": [
       "<div>\n",
       "<style>\n",
       "    .dataframe thead tr:only-child th {\n",
       "        text-align: right;\n",
       "    }\n",
       "\n",
       "    .dataframe thead th {\n",
       "        text-align: left;\n",
       "    }\n",
       "\n",
       "    .dataframe tbody tr th {\n",
       "        vertical-align: top;\n",
       "    }\n",
       "</style>\n",
       "<table border=\"1\" class=\"dataframe\">\n",
       "  <thead>\n",
       "    <tr style=\"text-align: right;\">\n",
       "      <th></th>\n",
       "      <th>userId</th>\n",
       "      <th>movieId</th>\n",
       "      <th>rating</th>\n",
       "      <th>timestamp</th>\n",
       "    </tr>\n",
       "  </thead>\n",
       "  <tbody>\n",
       "    <tr>\n",
       "      <th>0</th>\n",
       "      <td>1</td>\n",
       "      <td>31</td>\n",
       "      <td>2.5</td>\n",
       "      <td>1260759144</td>\n",
       "    </tr>\n",
       "    <tr>\n",
       "      <th>1</th>\n",
       "      <td>1</td>\n",
       "      <td>1029</td>\n",
       "      <td>3.0</td>\n",
       "      <td>1260759179</td>\n",
       "    </tr>\n",
       "    <tr>\n",
       "      <th>2</th>\n",
       "      <td>1</td>\n",
       "      <td>1061</td>\n",
       "      <td>3.0</td>\n",
       "      <td>1260759182</td>\n",
       "    </tr>\n",
       "    <tr>\n",
       "      <th>3</th>\n",
       "      <td>1</td>\n",
       "      <td>1129</td>\n",
       "      <td>2.0</td>\n",
       "      <td>1260759185</td>\n",
       "    </tr>\n",
       "    <tr>\n",
       "      <th>4</th>\n",
       "      <td>1</td>\n",
       "      <td>1172</td>\n",
       "      <td>4.0</td>\n",
       "      <td>1260759205</td>\n",
       "    </tr>\n",
       "  </tbody>\n",
       "</table>\n",
       "</div>"
      ],
      "text/plain": [
       "   userId  movieId  rating   timestamp\n",
       "0       1       31     2.5  1260759144\n",
       "1       1     1029     3.0  1260759179\n",
       "2       1     1061     3.0  1260759182\n",
       "3       1     1129     2.0  1260759185\n",
       "4       1     1172     4.0  1260759205"
      ]
     },
     "execution_count": 3,
     "metadata": {},
     "output_type": "execute_result"
    }
   ],
   "source": [
    "data = pd.read_csv(\n",
    "    path.join(data_dir, \"ratings.csv\"),\n",
    "    sep=\",\",\n",
    ")\n",
    "data.head()"
   ]
  },
  {
   "cell_type": "code",
   "execution_count": 4,
   "metadata": {},
   "outputs": [
    {
     "name": "stdout",
     "output_type": "stream",
     "text": [
      "<class 'pandas.core.frame.DataFrame'>\n",
      "RangeIndex: 100004 entries, 0 to 100003\n",
      "Data columns (total 4 columns):\n",
      "userId       100004 non-null int64\n",
      "movieId      100004 non-null int64\n",
      "rating       100004 non-null float64\n",
      "timestamp    100004 non-null int64\n",
      "dtypes: float64(1), int64(3)\n",
      "memory usage: 3.1 MB\n"
     ]
    }
   ],
   "source": [
    "data.info()"
   ]
  },
  {
   "cell_type": "code",
   "execution_count": 5,
   "metadata": {},
   "outputs": [
    {
     "data": {
      "text/html": [
       "<div>\n",
       "<style>\n",
       "    .dataframe thead tr:only-child th {\n",
       "        text-align: right;\n",
       "    }\n",
       "\n",
       "    .dataframe thead th {\n",
       "        text-align: left;\n",
       "    }\n",
       "\n",
       "    .dataframe tbody tr th {\n",
       "        vertical-align: top;\n",
       "    }\n",
       "</style>\n",
       "<table border=\"1\" class=\"dataframe\">\n",
       "  <thead>\n",
       "    <tr style=\"text-align: right;\">\n",
       "      <th></th>\n",
       "      <th>rating</th>\n",
       "      <th>user_id</th>\n",
       "      <th>movie_id</th>\n",
       "    </tr>\n",
       "  </thead>\n",
       "  <tbody>\n",
       "    <tr>\n",
       "      <th>0</th>\n",
       "      <td>2.5</td>\n",
       "      <td>1</td>\n",
       "      <td>31</td>\n",
       "    </tr>\n",
       "    <tr>\n",
       "      <th>1</th>\n",
       "      <td>3.0</td>\n",
       "      <td>1</td>\n",
       "      <td>834</td>\n",
       "    </tr>\n",
       "    <tr>\n",
       "      <th>2</th>\n",
       "      <td>3.0</td>\n",
       "      <td>1</td>\n",
       "      <td>860</td>\n",
       "    </tr>\n",
       "    <tr>\n",
       "      <th>3</th>\n",
       "      <td>2.0</td>\n",
       "      <td>1</td>\n",
       "      <td>907</td>\n",
       "    </tr>\n",
       "    <tr>\n",
       "      <th>4</th>\n",
       "      <td>4.0</td>\n",
       "      <td>1</td>\n",
       "      <td>932</td>\n",
       "    </tr>\n",
       "  </tbody>\n",
       "</table>\n",
       "</div>"
      ],
      "text/plain": [
       "   rating  user_id  movie_id\n",
       "0     2.5        1        31\n",
       "1     3.0        1       834\n",
       "2     3.0        1       860\n",
       "3     2.0        1       907\n",
       "4     4.0        1       932"
      ]
     },
     "execution_count": 5,
     "metadata": {},
     "output_type": "execute_result"
    }
   ],
   "source": [
    "# заменим строковые идентификаторы числовыми кодами\n",
    "# добавляем к индексам единицы, потому что в mrec,\n",
    "# который будем использовать для оценки качества, индексы начинаются с единицы\n",
    "data[\"user_id\"] = data[\"userId\"].astype(\"category\").cat.codes.copy() + 1\n",
    "data[\"movie_id\"] = data[\"movieId\"].astype(\"category\").cat.codes.copy() + 1\n",
    "# убираем лишние колонки\n",
    "data.drop([\"userId\", \"movieId\", \"timestamp\"], axis=1, inplace=True)\n",
    "#data.sort_values(['rating', 'user_id', 'movie_id'], ascending=[1, 2, 0], axis=1, inplace=True)\n",
    "data.head()"
   ]
  },
  {
   "cell_type": "code",
   "execution_count": 6,
   "metadata": {},
   "outputs": [
    {
     "data": {
      "text/html": [
       "<div>\n",
       "<style>\n",
       "    .dataframe thead tr:only-child th {\n",
       "        text-align: right;\n",
       "    }\n",
       "\n",
       "    .dataframe thead th {\n",
       "        text-align: left;\n",
       "    }\n",
       "\n",
       "    .dataframe tbody tr th {\n",
       "        vertical-align: top;\n",
       "    }\n",
       "</style>\n",
       "<table border=\"1\" class=\"dataframe\">\n",
       "  <thead>\n",
       "    <tr style=\"text-align: right;\">\n",
       "      <th></th>\n",
       "      <th>user_id</th>\n",
       "      <th>movie_id</th>\n",
       "      <th>rating</th>\n",
       "    </tr>\n",
       "  </thead>\n",
       "  <tbody>\n",
       "    <tr>\n",
       "      <th>0</th>\n",
       "      <td>1</td>\n",
       "      <td>31</td>\n",
       "      <td>2.5</td>\n",
       "    </tr>\n",
       "    <tr>\n",
       "      <th>1</th>\n",
       "      <td>1</td>\n",
       "      <td>834</td>\n",
       "      <td>3.0</td>\n",
       "    </tr>\n",
       "    <tr>\n",
       "      <th>2</th>\n",
       "      <td>1</td>\n",
       "      <td>860</td>\n",
       "      <td>3.0</td>\n",
       "    </tr>\n",
       "    <tr>\n",
       "      <th>3</th>\n",
       "      <td>1</td>\n",
       "      <td>907</td>\n",
       "      <td>2.0</td>\n",
       "    </tr>\n",
       "    <tr>\n",
       "      <th>4</th>\n",
       "      <td>1</td>\n",
       "      <td>932</td>\n",
       "      <td>4.0</td>\n",
       "    </tr>\n",
       "  </tbody>\n",
       "</table>\n",
       "</div>"
      ],
      "text/plain": [
       "   user_id  movie_id  rating\n",
       "0        1        31     2.5\n",
       "1        1       834     3.0\n",
       "2        1       860     3.0\n",
       "3        1       907     2.0\n",
       "4        1       932     4.0"
      ]
     },
     "execution_count": 6,
     "metadata": {},
     "output_type": "execute_result"
    }
   ],
   "source": [
    "data = data[['user_id', 'movie_id', 'rating']]\n",
    "data.head()"
   ]
  },
  {
   "cell_type": "code",
   "execution_count": 47,
   "metadata": {
    "collapsed": true
   },
   "outputs": [],
   "source": [
    "data.to_csv(\n",
    "    path.join(data_dir, \"ratings.tsv\"),\n",
    "    sep='\\t',\n",
    "    index=False,\n",
    "    header=False,\n",
    ")"
   ]
  },
  {
   "cell_type": "code",
   "execution_count": 48,
   "metadata": {},
   "outputs": [
    {
     "name": "stdout",
     "output_type": "stream",
     "text": [
      "[2017-12-05 23:50:17,128] INFO: sorting input data...\n",
      "[2017-12-05 23:50:17,364] INFO: creating split 0: /home/mershov/data/ml-latest-small/splits/ratings.tsv.train.0 /home/mershov/data/ml-latest-small/splits/ratings.tsv.test.0\n",
      "[2017-12-05 23:50:18,367] INFO: cleaning up...\n",
      "[2017-12-05 23:50:18,370] INFO: done\n"
     ]
    }
   ],
   "source": [
    "#preparing train/test\n",
    "!mrec_prepare \\\n",
    "    --dataset $DATA_DIR/ratings.tsv \\\n",
    "    --outdir $DATA_DIR/splits \\\n",
    "    --num_splits 1 \\\n",
    "    --rating_thresh 4 \\\n",
    "    --test_size 0.2 \\\n",
    "    --binarize"
   ]
  },
  {
   "cell_type": "code",
   "execution_count": 52,
   "metadata": {
    "collapsed": true
   },
   "outputs": [],
   "source": [
    "!ipcluster start \\\n",
    "    -n4 \\\n",
    "    --daemonize"
   ]
  },
  {
   "cell_type": "code",
   "execution_count": 54,
   "metadata": {},
   "outputs": [
    {
     "name": "stdout",
     "output_type": "stream",
     "text": [
      "[2017-12-06 00:05:44,046] INFO: processing /home/mershov/data/ml-latest-small/splits/ratings.tsv.train.0...\n",
      "[2017-12-06 00:05:44,046] INFO: finding number of items...\n",
      "[2017-12-06 00:05:45,466] INFO: 671 users and 9066 items\n",
      "[2017-12-06 00:05:45,467] INFO: creating sims directory /home/mershov/data/ml-latest-small/knn_model/ratings.tsv.train.0-sims...\n",
      "[2017-12-06 00:05:45,797] INFO: creating tasks...\n",
      "[2017-12-06 00:05:45,797] INFO: running 4 tasks in parallel across ipython engines...\n",
      "[2017-12-06 00:06:51,583] INFO: checking output files...\n",
      "[2017-12-06 00:06:51,584] INFO: SUCCESS: all tasks completed\n",
      "[2017-12-06 00:06:51,584] INFO: concatenating 4 partial output files...\n",
      "[2017-12-06 00:06:51,708] INFO: removing partial output files...\n",
      "[2017-12-06 00:06:52,445] INFO: loading 9066 items in CosineKNNRecommender model from /home/mershov/data/ml-latest-small/knn_model/ratings.tsv.train.0.sims.tsv\n",
      "[2017-12-06 00:07:02,185] INFO: done\n"
     ]
    }
   ],
   "source": [
    "#training knn model\n",
    "!mrec_train \\\n",
    "    -n4 \\\n",
    "    --input_format tsv \\\n",
    "    --train $DATA_DIR/splits/ratings.tsv.train.* \\\n",
    "    --overwrite \\\n",
    "    --outdir $DATA_DIR/knn_model \\\n",
    "    --model knn"
   ]
  },
  {
   "cell_type": "code",
   "execution_count": 11,
   "metadata": {},
   "outputs": [
    {
     "name": "stdout",
     "output_type": "stream",
     "text": [
      "[2017-12-06 00:43:29,472] INFO: processing /home/mershov/data/ml-latest-small/splits/ratings.tsv.train.0...\n",
      "[2017-12-06 00:43:33,335] INFO: done\n"
     ]
    }
   ],
   "source": [
    "#training popularity model\n",
    "!mrec_train \\\n",
    "    -n4 \\\n",
    "    --input_format tsv \\\n",
    "    --train $DATA_DIR/splits/ratings.tsv.train.* \\\n",
    "    --overwrite \\\n",
    "    --outdir $DATA_DIR/popularity_model \\\n",
    "    --model popularity"
   ]
  },
  {
   "cell_type": "code",
   "execution_count": 7,
   "metadata": {},
   "outputs": [
    {
     "name": "stdout",
     "output_type": "stream",
     "text": [
      "[2017-12-06 00:28:06,537] INFO: processing /home/mershov/data/ml-latest-small/splits/ratings.tsv.train.0...\n",
      "[2017-12-06 00:28:06,537] INFO: creating recs directory /home/mershov/data/ml-latest-small/recs/ratings.tsv.train.0-recs...\n",
      "[2017-12-06 00:28:06,596] INFO: checking for existing output recs...\n",
      "[2017-12-06 00:28:06,597] INFO: creating tasks...\n",
      "[2017-12-06 00:28:06,597] INFO: loading dataset to get size...\n",
      "[2017-12-06 00:28:08,646] INFO: loading model to get size...\n",
      "[2017-12-06 00:28:10,599] INFO: created 1 tasks, 723 users per task\n",
      "[2017-12-06 00:28:10,599] INFO: running in parallel across ipython engines...\n",
      "[2017-12-06 00:28:17,903] INFO: checking output files...\n",
      "[2017-12-06 00:28:17,903] INFO: SUCCESS: all tasks completed\n",
      "[2017-12-06 00:28:17,903] INFO: concatenating 1 partial output files...\n",
      "[2017-12-06 00:28:17,950] INFO: removing partial output files...\n",
      "[2017-12-06 00:28:17,951] INFO: done\n",
      "CosineKNNRecommender(k=100)\n",
      "mrr            0.4552 +/- 0.0000\n",
      "prec@5         0.2347 +/- 0.0000\n",
      "prec@10        0.1948 +/- 0.0000\n",
      "prec@15        0.1650 +/- 0.0000\n",
      "prec@20        0.1433 +/- 0.0000\n"
     ]
    }
   ],
   "source": [
    "#predicting and evaluating knn model\n",
    "!mrec_predict \\\n",
    "    --input_format tsv \\\n",
    "    --test_input_format tsv \\\n",
    "    --train $DATA_DIR/splits/ratings.tsv.train.0 \\\n",
    "    --modeldir $DATA_DIR/knn_model \\\n",
    "    --outdir $DATA_DIR/recs_knn"
   ]
  },
  {
   "cell_type": "code",
   "execution_count": 12,
   "metadata": {},
   "outputs": [
    {
     "name": "stdout",
     "output_type": "stream",
     "text": [
      "[2017-12-06 00:47:38,393] INFO: processing /home/mershov/data/ml-latest-small/splits/ratings.tsv.train.0...\n",
      "[2017-12-06 00:47:38,393] INFO: creating recs directory /home/mershov/data/ml-latest-small/recs_popularity/ratings.tsv.train.0-recs...\n",
      "[2017-12-06 00:47:38,398] INFO: checking for existing output recs...\n",
      "[2017-12-06 00:47:38,400] INFO: creating tasks...\n",
      "[2017-12-06 00:47:38,400] INFO: loading dataset to get size...\n",
      "[2017-12-06 00:47:39,880] INFO: loading model to get size...\n",
      "[2017-12-06 00:47:39,884] INFO: created 1 tasks, 671 users per task\n",
      "[2017-12-06 00:47:39,884] INFO: running in parallel across ipython engines...\n",
      "[2017-12-06 00:48:10,620] INFO: checking output files...\n",
      "[2017-12-06 00:48:10,620] INFO: SUCCESS: all tasks completed\n",
      "[2017-12-06 00:48:10,620] INFO: concatenating 1 partial output files...\n",
      "[2017-12-06 00:48:10,721] INFO: removing partial output files...\n",
      "[2017-12-06 00:48:10,721] INFO: done\n",
      "ItemPop\n",
      "mrr            0.2910 +/- 0.0000\n",
      "prec@5         0.1377 +/- 0.0000\n",
      "prec@10        0.1107 +/- 0.0000\n",
      "prec@15        0.0974 +/- 0.0000\n",
      "prec@20        0.0886 +/- 0.0000\n"
     ]
    }
   ],
   "source": [
    "#predicting and evaluating popularity model\n",
    "!mrec_predict \\\n",
    "    --input_format tsv \\\n",
    "    --test_input_format tsv \\\n",
    "    --train $DATA_DIR/splits/ratings.tsv.train.0 \\\n",
    "    --modeldir $DATA_DIR/popularity_model \\\n",
    "    --outdir $DATA_DIR/recs_popularity"
   ]
  },
  {
   "cell_type": "code",
   "execution_count": 7,
   "metadata": {},
   "outputs": [
    {
     "name": "stdout",
     "output_type": "stream",
     "text": [
      "[2017-12-06 11:44:52,269] INFO: processing /home/mershov/data/ml-latest-small/splits/ratings.tsv.train.0...\n",
      "[2017-12-06 11:44:52,270] INFO: finding number of items...\n",
      "[2017-12-06 11:44:53,915] INFO: 671 users and 9066 items\n",
      "[2017-12-06 11:44:53,915] INFO: creating sims directory /home/mershov/data/ml-latest-small/slim_model/ratings.tsv.train.0-sims...\n",
      "[2017-12-06 11:44:54,096] INFO: creating tasks...\n",
      "[2017-12-06 11:44:54,097] INFO: running 4 tasks in parallel across ipython engines...\n",
      "[2017-12-06 11:46:59,850] INFO: checking output files...\n",
      "[2017-12-06 11:46:59,872] INFO: SUCCESS: all tasks completed\n",
      "[2017-12-06 11:46:59,872] INFO: concatenating 4 partial output files...\n",
      "[2017-12-06 11:47:02,079] INFO: removing partial output files...\n",
      "[2017-12-06 11:47:02,165] INFO: loading 9066 items in SLIM model from /home/mershov/data/ml-latest-small/slim_model/ratings.tsv.train.0.sims.tsv\n",
      "[2017-12-06 11:47:12,668] INFO: done\n"
     ]
    }
   ],
   "source": [
    "#training slim model\n",
    "!mrec_train \\\n",
    "    -n4 \\\n",
    "    --input_format tsv \\\n",
    "    --train $DATA_DIR/splits/ratings.tsv.train.* \\\n",
    "    --overwrite \\\n",
    "    --outdir $DATA_DIR/slim_model \\\n",
    "    --model slim"
   ]
  },
  {
   "cell_type": "code",
   "execution_count": 8,
   "metadata": {},
   "outputs": [
    {
     "name": "stdout",
     "output_type": "stream",
     "text": [
      "[2017-12-06 11:47:43,170] INFO: processing /home/mershov/data/ml-latest-small/splits/ratings.tsv.train.0...\n",
      "[2017-12-06 11:47:43,171] INFO: creating recs directory /home/mershov/data/ml-latest-small/recs_slim/ratings.tsv.train.0-recs...\n",
      "[2017-12-06 11:47:43,351] INFO: checking for existing output recs...\n",
      "[2017-12-06 11:47:43,353] INFO: creating tasks...\n",
      "[2017-12-06 11:47:43,353] INFO: loading dataset to get size...\n",
      "[2017-12-06 11:47:44,901] INFO: loading model to get size...\n",
      "[2017-12-06 11:47:46,838] INFO: created 5 tasks, 147 users per task\n",
      "[2017-12-06 11:47:46,838] INFO: running in parallel across ipython engines...\n",
      "[2017-12-06 11:48:02,618] INFO: checking output files...\n",
      "[2017-12-06 11:48:02,619] INFO: SUCCESS: all tasks completed\n",
      "[2017-12-06 11:48:02,619] INFO: concatenating 5 partial output files...\n",
      "[2017-12-06 11:48:02,656] INFO: removing partial output files...\n",
      "[2017-12-06 11:48:02,657] INFO: done\n",
      "SLIM(SGDRegressor(alpha=0.0011, average=False, epsilon=0.1, eta0=0.01,\n",
      "       fit_intercept=False, l1_ratio=0.9090909090909091,\n",
      "       learning_rate='invscaling', loss='squared_loss', max_iter=None,\n",
      "       n_iter=None, penalty='elasticnet', power_t=0.25, random_state=None,\n",
      "       shuffle=True, tol=None, verbose=0, warm_start=False))\n",
      "mrr            0.4864 +/- 0.0000\n",
      "prec@5         0.2542 +/- 0.0000\n",
      "prec@10        0.2087 +/- 0.0000\n",
      "prec@15        0.1777 +/- 0.0000\n",
      "prec@20        0.1566 +/- 0.0000\n"
     ]
    }
   ],
   "source": [
    "#predicting and evaluating slim model\n",
    "!mrec_predict \\\n",
    "    --input_format tsv \\\n",
    "    --test_input_format tsv \\\n",
    "    --train $DATA_DIR/splits/ratings.tsv.train.0 \\\n",
    "    --modeldir $DATA_DIR/slim_model \\\n",
    "    --outdir $DATA_DIR/recs_slim"
   ]
  },
  {
   "cell_type": "code",
   "execution_count": null,
   "metadata": {
    "collapsed": true
   },
   "outputs": [],
   "source": []
  }
 ],
 "metadata": {
  "kernelspec": {
   "display_name": "Python 3",
   "language": "python",
   "name": "python3"
  },
  "language_info": {
   "codemirror_mode": {
    "name": "ipython",
    "version": 3
   },
   "file_extension": ".py",
   "mimetype": "text/x-python",
   "name": "python",
   "nbconvert_exporter": "python",
   "pygments_lexer": "ipython3",
   "version": "3.6.3"
  }
 },
 "nbformat": 4,
 "nbformat_minor": 2
}
